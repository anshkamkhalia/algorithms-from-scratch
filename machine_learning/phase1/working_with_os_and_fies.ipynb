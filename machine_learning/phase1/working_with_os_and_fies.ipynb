{
 "cells": [
  {
   "cell_type": "code",
   "execution_count": 1,
   "id": "44d64bc0",
   "metadata": {},
   "outputs": [],
   "source": [
    "import os"
   ]
  },
  {
   "cell_type": "code",
   "execution_count": 2,
   "id": "a5c10273",
   "metadata": {},
   "outputs": [
    {
     "data": {
      "text/plain": [
       "'c:\\\\Users\\\\Ansh\\\\Downloads\\\\DEVELOPMENT\\\\machine_learning\\\\phase1'"
      ]
     },
     "execution_count": 2,
     "metadata": {},
     "output_type": "execute_result"
    }
   ],
   "source": [
    "os.getcwd()"
   ]
  },
  {
   "cell_type": "code",
   "execution_count": 3,
   "id": "310dabec",
   "metadata": {},
   "outputs": [
    {
     "name": "stdout",
     "output_type": "stream",
     "text": [
      "Help on built-in function listdir in module nt:\n",
      "\n",
      "listdir(path=None)\n",
      "    Return a list containing the names of the files in the directory.\n",
      "\n",
      "    path can be specified as either str, bytes, or a path-like object.  If path is bytes,\n",
      "      the filenames returned will also be bytes; in all other circumstances\n",
      "      the filenames returned will be str.\n",
      "    If path is None, uses the path='.'.\n",
      "    On some platforms, path may also be specified as an open file descriptor;\\\n",
      "      the file descriptor must refer to a directory.\n",
      "      If this functionality is unavailable, using it raises NotImplementedError.\n",
      "\n",
      "    The list is in arbitrary order.  It does not include the special\n",
      "    entries '.' and '..' even if they are present in the directory.\n",
      "\n"
     ]
    }
   ],
   "source": [
    "help(os.listdir)"
   ]
  },
  {
   "cell_type": "code",
   "execution_count": 4,
   "id": "b8e6f63e",
   "metadata": {},
   "outputs": [
    {
     "name": "stdout",
     "output_type": "stream",
     "text": [
      "\u001b[1;31mSignature:\u001b[0m \u001b[0mos\u001b[0m\u001b[1;33m.\u001b[0m\u001b[0mlistdir\u001b[0m\u001b[1;33m(\u001b[0m\u001b[0mpath\u001b[0m\u001b[1;33m=\u001b[0m\u001b[1;32mNone\u001b[0m\u001b[1;33m)\u001b[0m\u001b[1;33m\u001b[0m\u001b[1;33m\u001b[0m\u001b[0m\n",
      "\u001b[1;31mDocstring:\u001b[0m\n",
      "Return a list containing the names of the files in the directory.\n",
      "\n",
      "path can be specified as either str, bytes, or a path-like object.  If path is bytes,\n",
      "  the filenames returned will also be bytes; in all other circumstances\n",
      "  the filenames returned will be str.\n",
      "If path is None, uses the path='.'.\n",
      "On some platforms, path may also be specified as an open file descriptor;\\\n",
      "  the file descriptor must refer to a directory.\n",
      "  If this functionality is unavailable, using it raises NotImplementedError.\n",
      "\n",
      "The list is in arbitrary order.  It does not include the special\n",
      "entries '.' and '..' even if they are present in the directory.\n",
      "\u001b[1;31mType:\u001b[0m      builtin_function_or_method"
     ]
    }
   ],
   "source": [
    "os.listdir??"
   ]
  },
  {
   "cell_type": "code",
   "execution_count": 5,
   "id": "506faf96",
   "metadata": {},
   "outputs": [
    {
     "data": {
      "text/plain": [
       "['.git',\n",
       " 'intro_to_numpy.ipynb',\n",
       " 'numpy_practice.ipynb',\n",
       " 'working_with_os_and_fies.ipynb']"
      ]
     },
     "execution_count": 5,
     "metadata": {},
     "output_type": "execute_result"
    }
   ],
   "source": [
    "os.listdir(\".\")"
   ]
  },
  {
   "cell_type": "code",
   "execution_count": 16,
   "id": "8f2a609c",
   "metadata": {},
   "outputs": [
    {
     "data": {
      "text/plain": [
       "['All Users', 'Ansh', 'Default', 'Default User', 'desktop.ini', 'Public']"
      ]
     },
     "execution_count": 16,
     "metadata": {},
     "output_type": "execute_result"
    }
   ],
   "source": [
    "os.listdir(\"/Users\")"
   ]
  },
  {
   "cell_type": "code",
   "execution_count": 17,
   "id": "1bb738f4",
   "metadata": {},
   "outputs": [],
   "source": [
    "os.makedirs(\"./data\", exist_ok=True)"
   ]
  },
  {
   "cell_type": "code",
   "execution_count": 20,
   "id": "02c0e58f",
   "metadata": {},
   "outputs": [
    {
     "name": "stdout",
     "output_type": "stream",
     "text": [
      "\u001b[1;31mSignature:\u001b[0m \u001b[0mos\u001b[0m\u001b[1;33m.\u001b[0m\u001b[0mmakedirs\u001b[0m\u001b[1;33m(\u001b[0m\u001b[0mname\u001b[0m\u001b[1;33m,\u001b[0m \u001b[0mmode\u001b[0m\u001b[1;33m=\u001b[0m\u001b[1;36m511\u001b[0m\u001b[1;33m,\u001b[0m \u001b[0mexist_ok\u001b[0m\u001b[1;33m=\u001b[0m\u001b[1;32mFalse\u001b[0m\u001b[1;33m)\u001b[0m\u001b[1;33m\u001b[0m\u001b[1;33m\u001b[0m\u001b[0m\n",
      "\u001b[1;31mDocstring:\u001b[0m\n",
      "makedirs(name [, mode=0o777][, exist_ok=False])\n",
      "\n",
      "Super-mkdir; create a leaf directory and all intermediate ones.  Works like\n",
      "mkdir, except that any intermediate path segment (not just the rightmost)\n",
      "will be created if it does not exist. If the target directory already\n",
      "exists, raise an OSError if exist_ok is False. Otherwise no exception is\n",
      "raised.  This is recursive.\n",
      "\u001b[1;31mFile:\u001b[0m      c:\\users\\ansh\\downloads\\development\\machine_learning\\phase1\\<frozen os>\n",
      "\u001b[1;31mType:\u001b[0m      function"
     ]
    }
   ],
   "source": [
    "os.makedirs??"
   ]
  },
  {
   "cell_type": "code",
   "execution_count": 21,
   "id": "80297907",
   "metadata": {},
   "outputs": [
    {
     "name": "stdout",
     "output_type": "stream",
     "text": [
      "Help on function makedirs in module os:\n",
      "\n",
      "makedirs(name, mode=511, exist_ok=False)\n",
      "    makedirs(name [, mode=0o777][, exist_ok=False])\n",
      "\n",
      "    Super-mkdir; create a leaf directory and all intermediate ones.  Works like\n",
      "    mkdir, except that any intermediate path segment (not just the rightmost)\n",
      "    will be created if it does not exist. If the target directory already\n",
      "    exists, raise an OSError if exist_ok is False. Otherwise no exception is\n",
      "    raised.  This is recursive.\n",
      "\n"
     ]
    }
   ],
   "source": [
    "help(os.makedirs)"
   ]
  },
  {
   "cell_type": "code",
   "execution_count": 18,
   "id": "6f1e46a1",
   "metadata": {},
   "outputs": [
    {
     "data": {
      "text/plain": [
       "['.git',\n",
       " 'data',\n",
       " 'intro_to_numpy.ipynb',\n",
       " 'numpy_practice.ipynb',\n",
       " 'working_with_os_and_fies.ipynb']"
      ]
     },
     "execution_count": 18,
     "metadata": {},
     "output_type": "execute_result"
    }
   ],
   "source": [
    "os.listdir(\".\")"
   ]
  },
  {
   "cell_type": "code",
   "execution_count": 19,
   "id": "c56c3cf9",
   "metadata": {},
   "outputs": [
    {
     "data": {
      "text/plain": [
       "True"
      ]
     },
     "execution_count": 19,
     "metadata": {},
     "output_type": "execute_result"
    }
   ],
   "source": [
    "\"data\" in os.listdir(\".\")"
   ]
  },
  {
   "cell_type": "code",
   "execution_count": 22,
   "id": "f8f52578",
   "metadata": {},
   "outputs": [
    {
     "data": {
      "text/plain": [
       "[]"
      ]
     },
     "execution_count": 22,
     "metadata": {},
     "output_type": "execute_result"
    }
   ],
   "source": [
    "os.listdir(\"./data\")"
   ]
  },
  {
   "cell_type": "code",
   "execution_count": 25,
   "id": "cb4dd680",
   "metadata": {},
   "outputs": [],
   "source": [
    "url1 = 'https://hub.jovian.ml/wp-content/uploads/2020/08/loans1.txt'\n",
    "url2 = 'https://hub.jovian.ml/wp-content/uploads/2020/08/loans2.txt'\n",
    "url3 = 'https://hub.jovian.ml/wp-content/uploads/2020/08/loans3.txt'"
   ]
  },
  {
   "cell_type": "code",
   "execution_count": null,
   "id": "42c864fa",
   "metadata": {},
   "outputs": [],
   "source": []
  }
 ],
 "metadata": {
  "kernelspec": {
   "display_name": "Python 3",
   "language": "python",
   "name": "python3"
  },
  "language_info": {
   "codemirror_mode": {
    "name": "ipython",
    "version": 3
   },
   "file_extension": ".py",
   "mimetype": "text/x-python",
   "name": "python",
   "nbconvert_exporter": "python",
   "pygments_lexer": "ipython3",
   "version": "3.13.2"
  }
 },
 "nbformat": 4,
 "nbformat_minor": 5
}
